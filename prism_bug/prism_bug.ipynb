{
 "cells": [
  {
   "attachments": {},
   "cell_type": "markdown",
   "metadata": {},
   "source": [
    "# Prism bug\n",
    "This notebook illustrates a bug in Prism that causes problems for my implementation."
   ]
  },
  {
   "attachments": {},
   "cell_type": "markdown",
   "metadata": {},
   "source": [
    "## Example input files"
   ]
  },
  {
   "cell_type": "code",
   "execution_count": 33,
   "metadata": {
    "vscode": {
     "languageId": "shellscript"
    }
   },
   "outputs": [
    {
     "name": "stdout",
     "output_type": "stream",
     "text": [
      "dtmc\n",
      "\n",
      "module cell1\n",
      "    s0 : [0..1] init 0;\n",
      "    c0 : [0..1] init 0;\n",
      "    [] s0=0 -> 1 : (s0'=0) & (c0'=0) + 0 : (s0'=1) & (c0'=1);\n",
      "    [] s0=1 -> 1 : (s0'=0) & (c0'=0) + 0 : (s0'=1) & (c0'=1);\n",
      "endmodule\n",
      "\n",
      "const double p;\n",
      "const double q=1-p;\n",
      "module cell2\n",
      "    s1 : [0..1] init 0;\n",
      "    c1 : [0..1] init 0;\n",
      "    [] s1=0 -> q : (s1'=0) & (c1'=0) + p : (s1'=1) & (c1'=1);\n",
      "    [] s1=1 -> 1 : (s1'=0) & (c1'=0) + 0 : (s1'=1) & (c1'=1);\n",
      "endmodule\n",
      "\n",
      "formula n = c0 + c1 + 0;"
     ]
    }
   ],
   "source": [
    "!cat model.prism"
   ]
  },
  {
   "cell_type": "code",
   "execution_count": 34,
   "metadata": {
    "vscode": {
     "languageId": "shellscript"
    }
   },
   "outputs": [
    {
     "name": "stdout",
     "output_type": "stream",
     "text": [
      "P>=0.5 [ G n <= 0 ]\n",
      "P>=0.5 [ G n <= 1 ]"
     ]
    }
   ],
   "source": [
    "!cat constraints.props"
   ]
  },
  {
   "attachments": {},
   "cell_type": "markdown",
   "metadata": {},
   "source": [
    "## Inconsistent results from prism"
   ]
  },
  {
   "attachments": {},
   "cell_type": "markdown",
   "metadata": {},
   "source": [
    "The following three commands should yield the same result, viz. \"true\" for both properties, but they do not.\n",
    "The parametric engine yields incorrect results.\n",
    "\n",
    "Note that 0.00000000000000001=0 and 0.99999999999999999=1 by the precision of Prism.\n",
    "If 0 and 1 are used instead, Prism does not terminate."
   ]
  },
  {
   "cell_type": "code",
   "execution_count": 1,
   "metadata": {
    "vscode": {
     "languageId": "shellscript"
    }
   },
   "outputs": [
    {
     "name": "stdout",
     "output_type": "stream",
     "text": [
      "Result: true\n",
      "Result: true\n",
      "\n",
      "Result: ([0.0,0.0]): false\n",
      "Result: ([0.0,0.0]): true\n",
      "\n",
      "Result: ([0.0,0.0],[1.0,1.0]): false\n",
      "Result: ([0.0,0.0],[1.0,1.0]): true\n"
     ]
    }
   ],
   "source": [
    "!prism model.prism constraints.props -const p=0 > output/true_const.txt\n",
    "!grep \"Result:\" output/true_const.txt\n",
    "!echo\n",
    "\n",
    "!prism model.prism constraints.props -param p=0:0.00000000000000001 > output/true_param_1.txt\n",
    "!grep \"Result:\" output/true_param_1.txt\n",
    "!echo\n",
    "\n",
    "!prism model.prism constraints.props -param p=0:0.000000000000000001,q=0.99999999999999999:1 > output/true_param_2.txt\n",
    "!grep \"Result:\" output/true_param_2.txt"
   ]
  },
  {
   "attachments": {},
   "cell_type": "markdown",
   "metadata": {},
   "source": [
    "The commands below should all yield the same result, viz. \"false\" for the first property and \"true\" for the second, and they do. In conclusion, the option \"-const\" seems to be working, whereas \"-param\" outputs \"false\" too often."
   ]
  },
  {
   "cell_type": "code",
   "execution_count": 38,
   "metadata": {
    "vscode": {
     "languageId": "shellscript"
    }
   },
   "outputs": [
    {
     "name": "stdout",
     "output_type": "stream",
     "text": [
      "Result: false\n",
      "Result: true\n",
      "\n",
      "Result: ([1.0,1.0]): false\n",
      "Result: ([1.0,1.0]): true\n",
      "\n",
      "Result: ([1.0,1.0],[0.0,0.0]): false\n",
      "Result: ([1.0,1.0],[0.0,0.0]): true\n"
     ]
    }
   ],
   "source": [
    "!prism model.prism constraints.props -const p=1 > output/false_const.txt\n",
    "!grep \"Result:\" output/false_const.txt\n",
    "!echo\n",
    "\n",
    "!prism model.prism constraints.props -param p=0.99999999999999999:1 > output/false_param_1.txt\n",
    "!grep \"Result:\" output/false_param_1.txt\n",
    "!echo\n",
    "\n",
    "!prism model.prism constraints.props -param p=0.99999999999999999:1,q=0:0.000000000000000001 > output/false_param_2.txt\n",
    "!grep \"Result:\" output/false_param_2.txt"
   ]
  }
 ],
 "metadata": {
  "kernelspec": {
   "display_name": "py3env",
   "language": "python",
   "name": "python3"
  },
  "language_info": {
   "codemirror_mode": {
    "name": "ipython",
    "version": 3
   },
   "file_extension": ".py",
   "mimetype": "text/x-python",
   "name": "python",
   "nbconvert_exporter": "python",
   "pygments_lexer": "ipython3",
   "version": "3.10.6"
  },
  "orig_nbformat": 4,
  "vscode": {
   "interpreter": {
    "hash": "5f4a9dd39f8169da338793df97c04700c64fbec15d76fc5997a12166e019f5c1"
   }
  }
 },
 "nbformat": 4,
 "nbformat_minor": 2
}
