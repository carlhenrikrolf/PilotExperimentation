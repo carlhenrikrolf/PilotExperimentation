{
 "cells": [
  {
   "cell_type": "code",
   "execution_count": 3,
   "metadata": {},
   "outputs": [],
   "source": [
    "n = 3\n",
    "m = 5\n",
    "\n",
    "def flatten(v):\n",
    "\n",
    "    assert type(v[0]) == int\n",
    "    assert max(v) < m\n",
    "    assert len(v) == n\n",
    "    assert min(v) >= 0\n",
    "\n",
    "    a = sum([(v[i] * m**i) for i in range(n)])\n",
    "    return a\n",
    "\n",
    "def unflatten(a):\n",
    "\n",
    "    assert type(a) == int\n",
    "    assert a < m**n\n",
    "    assert a >= 0\n",
    "\n",
    "    v = [0] * n\n",
    "    for i in range(n):\n",
    "        v[i] = a % m\n",
    "        a = a // m\n",
    "    return v"
   ]
  },
  {
   "cell_type": "code",
   "execution_count": 15,
   "metadata": {},
   "outputs": [
    {
     "name": "stdout",
     "output_type": "stream",
     "text": [
      "[2, 2, 4] 112 [2, 2, 4]\n"
     ]
    }
   ],
   "source": [
    "from random import randint\n",
    "v = [randint(0, m-1) for _ in range(n)]\n",
    "a = flatten(v)\n",
    "v2 = unflatten(a)\n",
    "print(v, a, v2)"
   ]
  },
  {
   "cell_type": "code",
   "execution_count": 14,
   "metadata": {},
   "outputs": [
    {
     "name": "stdout",
     "output_type": "stream",
     "text": [
      "1279551624550340 nan 38360\n"
     ]
    }
   ],
   "source": [
    "from numpy import nan\n",
    "from time import perf_counter_ns\n",
    "t0 = perf_counter_ns()\n",
    "import numpy\n",
    "t1 = perf_counter_ns()\n",
    "print(t0,t1-nan,t1-t0)"
   ]
  },
  {
   "cell_type": "code",
   "execution_count": 55,
   "metadata": {},
   "outputs": [
    {
     "data": {
      "text/plain": [
       "4"
      ]
     },
     "execution_count": 55,
     "metadata": {},
     "output_type": "execute_result"
    }
   ],
   "source": [
    "from numpy import sqrt\n",
    "sqrt(10**3 - 1)\n",
    "(8).bit_length()"
   ]
  },
  {
   "cell_type": "code",
   "execution_count": 29,
   "metadata": {},
   "outputs": [
    {
     "name": "stdout",
     "output_type": "stream",
     "text": [
      "[                   2                    8                  128\n",
      "                32768           2147483648 -9223372036854775808\n",
      "                    0                    0                    0\n",
      "                    0]\n"
     ]
    },
    {
     "data": {
      "image/png": "[encoded data removed]",
      "text/plain": [
       "<Figure size 640x480 with 1 Axes>"
      ]
     },
     "metadata": {},
     "output_type": "display_data"
    }
   ],
   "source": [
    "import numpy as np\n",
    "import matplotlib.pyplot as plt\n",
    "\n",
    "x = np.arange(1,11)\n",
    "k = 2\n",
    "y = 2 ** (k ** x - 1)\n",
    "print(y)\n",
    "plt.plot(x,y)\n",
    "plt.show()"
   ]
  },
  {
   "cell_type": "code",
   "execution_count": 63,
   "metadata": {},
   "outputs": [
    {
     "data": {
      "text/plain": [
       "array([[0., 0., 0., 0., 1.],\n",
       "       [0., 0., 0., 0., 1.],\n",
       "       [0., 0., 0., 0., 1.]])"
      ]
     },
     "execution_count": 63,
     "metadata": {},
     "output_type": "execute_result"
    }
   ],
   "source": [
    "x = np.zeros((3,4))\n",
    "y = np.reshape(np.ones((3)),(3,1))\n",
    "np.concatenate((x,y), axis=1)"
   ]
  },
  {
   "cell_type": "code",
   "execution_count": 91,
   "metadata": {},
   "outputs": [
    {
     "name": "stdout",
     "output_type": "stream",
     "text": [
      "[0 0 1] [1 0 1 0 0 1]\n"
     ]
    }
   ],
   "source": [
    "from gymnasium import spaces\n",
    "\n",
    "states = spaces.MultiDiscrete([2,2,2])\n",
    "states.seed(2)\n",
    "astate = states.sample()\n",
    "states.dtype\n",
    "states.is_np_flattenable\n",
    "\n",
    "from gymnasium.spaces import utils\n",
    "utils.flatdim(states)\n",
    "flats = utils.flatten_space(states)\n",
    "aflat = utils.flatten(states, astate)\n",
    "print(astate, aflat)\n"
   ]
  },
  {
   "cell_type": "code",
   "execution_count": 141,
   "metadata": {},
   "outputs": [
    {
     "name": "stdout",
     "output_type": "stream",
     "text": [
      "MultiDiscrete([5 5]) [1 2]\n",
      "Box(0, 1, (10,), int64) [0 1 0 0 0 0 0 1 0 0]\n",
      "[1 2]\n",
      "10\n",
      "0 Discrete(5)\n",
      "1 Discrete(5)\n"
     ]
    }
   ],
   "source": [
    "from gymnasium.spaces import Box, utils\n",
    "from gymnasium.spaces import MultiDiscrete\n",
    "space = MultiDiscrete(np.array([5,5]))\n",
    "sample = space.sample()\n",
    "print(space, sample)\n",
    "flat_space = utils.flatten_space(space)\n",
    "flat_sample = utils.flatten(space, sample)\n",
    "print(flat_space, flat_sample)\n",
    "unflat_sample = utils.unflatten(space, flat_sample)\n",
    "print(unflat_sample)\n",
    "print(utils.flatdim(space))\n",
    "\n",
    "for i, j in enumerate(space):\n",
    "    print(i, j)"
   ]
  }
 ],
 "metadata": {
  "kernelspec": {
   "display_name": "py3env",
   "language": "python",
   "name": "python3"
  },
  "language_info": {
   "codemirror_mode": {
    "name": "ipython",
    "version": 3
   },
   "file_extension": ".py",
   "mimetype": "text/x-python",
   "name": "python",
   "nbconvert_exporter": "python",
   "pygments_lexer": "ipython3",
   "version": "3.10.6"
  },
  "orig_nbformat": 4,
  "vscode": {
   "interpreter": {
    "hash": "5f4a9dd39f8169da338793df97c04700c64fbec15d76fc5997a12166e019f5c1"
   }
  }
 },
 "nbformat": 4,
 "nbformat_minor": 2
}
