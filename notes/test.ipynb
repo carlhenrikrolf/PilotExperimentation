{
 "cells": [
  {
   "cell_type": "code",
   "execution_count": 1,
   "metadata": {},
   "outputs": [],
   "source": [
    "n = 3\n",
    "m = 5\n",
    "\n",
    "def flatten(v):\n",
    "\n",
    "    assert type(v[0]) == int\n",
    "    assert max(v) < m\n",
    "    assert len(v) == n\n",
    "    assert min(v) >= 0\n",
    "\n",
    "    a = sum([(v[i] * m**i) for i in range(n)])\n",
    "    return a\n",
    "\n",
    "def unflatten(a):\n",
    "\n",
    "    assert type(a) == int\n",
    "    assert a < m**n\n",
    "    assert a >= 0\n",
    "\n",
    "    v = [0] * n\n",
    "    for i in range(n):\n",
    "        v[i] = a % m\n",
    "        a = a // m\n",
    "    return v"
   ]
  },
  {
   "cell_type": "code",
   "execution_count": null,
   "metadata": {},
   "outputs": [
    {
     "ename": "",
     "evalue": "",
     "output_type": "error",
     "traceback": [
      "\u001b[1;31mnotebook controller is DISPOSED. \n",
      "\u001b[1;31mView Jupyter <a href='command:jupyter.viewOutput'>log</a> for further details."
     ]
    }
   ],
   "source": [
    "from random import randint\n",
    "v = [randint(0, m-1) for _ in range(n)]\n",
    "a = flatten(v)\n",
    "v2 = unflatten(a)\n",
    "print(v, a, v2)"
   ]
  },
  {
   "cell_type": "code",
   "execution_count": null,
   "metadata": {},
   "outputs": [
    {
     "ename": "",
     "evalue": "",
     "output_type": "error",
     "traceback": [
      "\u001b[1;31mnotebook controller is DISPOSED. \n",
      "\u001b[1;31mView Jupyter <a href='command:jupyter.viewOutput'>log</a> for further details."
     ]
    }
   ],
   "source": [
    "from numpy import nan\n",
    "from time import perf_counter_ns\n",
    "t0 = perf_counter_ns()\n",
    "import numpy\n",
    "t1 = perf_counter_ns()\n",
    "print(t0,t1-nan,t1-t0)"
   ]
  },
  {
   "cell_type": "code",
   "execution_count": null,
   "metadata": {},
   "outputs": [
    {
     "ename": "",
     "evalue": "",
     "output_type": "error",
     "traceback": [
      "\u001b[1;31mnotebook controller is DISPOSED. \n",
      "\u001b[1;31mView Jupyter <a href='command:jupyter.viewOutput'>log</a> for further details."
     ]
    }
   ],
   "source": [
    "from numpy import sqrt\n",
    "sqrt(10**3 - 1)\n",
    "(8).bit_length()"
   ]
  },
  {
   "cell_type": "code",
   "execution_count": null,
   "metadata": {},
   "outputs": [
    {
     "ename": "",
     "evalue": "",
     "output_type": "error",
     "traceback": [
      "\u001b[1;31mnotebook controller is DISPOSED. \n",
      "\u001b[1;31mView Jupyter <a href='command:jupyter.viewOutput'>log</a> for further details."
     ]
    }
   ],
   "source": [
    "import numpy as np\n",
    "import matplotlib.pyplot as plt\n",
    "\n",
    "x = np.arange(1,11)\n",
    "k = 2\n",
    "y = 2 ** (k ** x - 1)\n",
    "print(y)\n",
    "plt.plot(x,y)\n",
    "plt.show()"
   ]
  },
  {
   "cell_type": "code",
   "execution_count": null,
   "metadata": {},
   "outputs": [
    {
     "ename": "",
     "evalue": "",
     "output_type": "error",
     "traceback": [
      "\u001b[1;31mnotebook controller is DISPOSED. \n",
      "\u001b[1;31mView Jupyter <a href='command:jupyter.viewOutput'>log</a> for further details."
     ]
    }
   ],
   "source": [
    "x = np.zeros((3,4))\n",
    "y = np.reshape(np.ones((3)),(3,1))\n",
    "np.concatenate((x,y), axis=1)"
   ]
  },
  {
   "cell_type": "code",
   "execution_count": null,
   "metadata": {},
   "outputs": [
    {
     "ename": "",
     "evalue": "",
     "output_type": "error",
     "traceback": [
      "\u001b[1;31mnotebook controller is DISPOSED. \n",
      "\u001b[1;31mView Jupyter <a href='command:jupyter.viewOutput'>log</a> for further details."
     ]
    }
   ],
   "source": [
    "from gymnasium import spaces\n",
    "\n",
    "states = spaces.MultiDiscrete([2,2,2])\n",
    "states.seed(2)\n",
    "astate = states.sample()\n",
    "states.dtype\n",
    "states.is_np_flattenable\n",
    "\n",
    "from gymnasium.spaces import utils\n",
    "utils.flatdim(states)\n",
    "flats = utils.flatten_space(states)\n",
    "aflat = utils.flatten(states, astate)\n",
    "print(astate, aflat)\n"
   ]
  },
  {
   "cell_type": "code",
   "execution_count": null,
   "metadata": {},
   "outputs": [
    {
     "ename": "",
     "evalue": "",
     "output_type": "error",
     "traceback": [
      "\u001b[1;31mnotebook controller is DISPOSED. \n",
      "\u001b[1;31mView Jupyter <a href='command:jupyter.viewOutput'>log</a> for further details."
     ]
    }
   ],
   "source": [
    "from gymnasium.spaces import Box, utils\n",
    "from gymnasium.spaces import MultiDiscrete\n",
    "space = MultiDiscrete(np.array([5,5]))\n",
    "sample = space.sample()\n",
    "print(space, sample)\n",
    "flat_space = utils.flatten_space(space)\n",
    "flat_sample = utils.flatten(space, sample)\n",
    "print(flat_space, flat_sample)\n",
    "unflat_sample = utils.unflatten(space, flat_sample)\n",
    "print(unflat_sample)\n",
    "print(utils.flatdim(space))\n",
    "\n",
    "for i, j in enumerate(space):\n",
    "    print(i, j)"
   ]
  },
  {
   "cell_type": "code",
   "execution_count": null,
   "metadata": {},
   "outputs": [
    {
     "ename": "",
     "evalue": "",
     "output_type": "error",
     "traceback": [
      "\u001b[1;31mnotebook controller is DISPOSED. \n",
      "\u001b[1;31mView Jupyter <a href='command:jupyter.viewOutput'>log</a> for further details."
     ]
    }
   ],
   "source": [
    "import stormpy\n",
    "import stormpy.examples\n",
    "import stormpy.examples.files\n",
    "path = stormpy.examples.files.prism_dtmc_die\n",
    "prism_program = stormpy.parse_prism_program(path)\n",
    "model = stormpy.build_model(prism_program)\n",
    "print(\"Number of states: {}\".format(model.nr_states))\n",
    "print(\"Number of transitions: {}\".format(model.nr_transitions))\n",
    "print(\"Number of choices: {}\".format(model.nr_choices))\n",
    "print(\"Labels: {}\".format(model.labeling.get_labels()))"
   ]
  },
  {
   "cell_type": "code",
   "execution_count": null,
   "metadata": {},
   "outputs": [
    {
     "ename": "",
     "evalue": "",
     "output_type": "error",
     "traceback": [
      "\u001b[1;31mnotebook controller is DISPOSED. \n",
      "\u001b[1;31mView Jupyter <a href='command:jupyter.viewOutput'>log</a> for further details."
     ]
    }
   ],
   "source": [
    "# import stormpy from prev cell\n",
    "\n",
    "#formula_str = \"P=? [F s=2]\"\n",
    "formula_str = \"P=? [F s=7 & d=2]\"\n",
    "properties = stormpy.parse_properties(formula_str, prism_program)\n",
    "print(properties)\n",
    "model = stormpy.build_model(prism_program, properties)\n",
    "print(\"Labels in the model: {}\".format(sorted(model.labeling.get_labels())))\n",
    "print(\"Number of states: {}\".format(model.nr_states))"
   ]
  },
  {
   "cell_type": "code",
   "execution_count": null,
   "metadata": {},
   "outputs": [
    {
     "ename": "",
     "evalue": "",
     "output_type": "error",
     "traceback": [
      "\u001b[1;31mnotebook controller is DISPOSED. \n",
      "\u001b[1;31mView Jupyter <a href='command:jupyter.viewOutput'>log</a> for further details."
     ]
    }
   ],
   "source": [
    "properties = stormpy.parse_properties(formula_str, prism_program)\n",
    "model = stormpy.build_model(prism_program, properties)\n",
    "result = stormpy.model_checking(model, properties[0])\n",
    "print(\"Result:\", result.result_for_all_states)"
   ]
  },
  {
   "cell_type": "code",
   "execution_count": null,
   "metadata": {},
   "outputs": [
    {
     "ename": "",
     "evalue": "",
     "output_type": "error",
     "traceback": [
      "\u001b[1;31mnotebook controller is DISPOSED. \n",
      "\u001b[1;31mView Jupyter <a href='command:jupyter.viewOutput'>log</a> for further details."
     ]
    }
   ],
   "source": [
    "print(model.model_type)\n",
    "for state in model.states:\n",
    "    for action in state.actions:\n",
    "        for transition in action.transitions:\n",
    "            print(\"from state\", state, \"with probability\", transition.value(), \"go to state\", transition.column)"
   ]
  },
  {
   "cell_type": "code",
   "execution_count": null,
   "metadata": {},
   "outputs": [
    {
     "ename": "",
     "evalue": "",
     "output_type": "error",
     "traceback": [
      "\u001b[1;31mnotebook controller is DISPOSED. \n",
      "\u001b[1;31mView Jupyter <a href='command:jupyter.viewOutput'>log</a> for further details."
     ]
    }
   ],
   "source": [
    "from stormpy.examples.files import prism_dtmc_die\n",
    "print(prism_dtmc_die)"
   ]
  },
  {
   "cell_type": "code",
   "execution_count": null,
   "metadata": {},
   "outputs": [
    {
     "ename": "",
     "evalue": "",
     "output_type": "error",
     "traceback": [
      "\u001b[1;31mnotebook controller is DISPOSED. \n",
      "\u001b[1;31mView Jupyter <a href='command:jupyter.viewOutput'>log</a> for further details."
     ]
    }
   ],
   "source": [
    "import stormpy\n",
    "path = 'model.prism'\n",
    "prism_program = stormpy.parse_prism_program(path)\n",
    "properties_str = \"P>=1 [ G n <= 2 ]\"\n",
    "properties = stormpy.parse_properties(properties_str, prism_program)\n",
    "model = stormpy.build_parametric_model(prism_program, properties)\n",
    "parameters = model.collect_probability_parameters()\n",
    "import stormpy.pars\n",
    "#instantiator = stormpy.pars.PDtmcInstantiator(model)\n",
    "point = dict()\n",
    "for x in parameters:\n",
    "    print(x.name)\n",
    "    point[x] = 0.4\n",
    "from stormpy.pars import \n",
    "print(point)\n",
    "#instantiated_model = instantiator.instantiate(point)\n"
   ]
  },
  {
   "cell_type": "code",
   "execution_count": null,
   "metadata": {},
   "outputs": [
    {
     "ename": "",
     "evalue": "",
     "output_type": "error",
     "traceback": [
      "\u001b[1;31mnotebook controller is DISPOSED. \n",
      "\u001b[1;31mView Jupyter <a href='command:jupyter.viewOutput'>log</a> for further details."
     ]
    }
   ],
   "source": [
    "import stormpy\n",
    "import stormpy.examples\n",
    "import stormpy.examples.files\n",
    "path = stormpy.examples.files.prism_dtmc_die\n",
    "prism_program = stormpy.parse_prism_program(path)\n",
    "formula_str = \"P=? [F s=7 & d=2]\"\n",
    "properties = stormpy.parse_properties(formula_str, prism_program)\n",
    "model = stormpy.build_parametric_model(prism_program, properties)\n",
    "parameters = model.collect_probability_parameters()\n",
    "for x in parameters:\n",
    "    print(x)\n",
    "import stormpy.pars\n",
    "instantiator = stormpy.pars.PDtmcInstantiator(model)\n",
    "point = dict()\n",
    "for x in parameters:\n",
    "    print(x.name)\n",
    "    point[x] = 0.4\n",
    "instantiated_model = instantiator.instantiate(point)\n",
    "result = stormpy.model_checking(instantiated_model, properties[0])\n",
    "print(\"Result:\", result.result_for_all_states)"
   ]
  }
 ],
 "metadata": {
  "kernelspec": {
   "display_name": "py3env",
   "language": "python",
   "name": "python3"
  },
  "language_info": {
   "codemirror_mode": {
    "name": "ipython",
    "version": 3
   },
   "file_extension": ".py",
   "mimetype": "text/x-python",
   "name": "python",
   "nbconvert_exporter": "python",
   "pygments_lexer": "ipython3",
   "version": "3.10.6 (main, Nov 14 2022, 16:10:14) [GCC 11.3.0]"
  },
  "orig_nbformat": 4,
  "vscode": {
   "interpreter": {
    "hash": "5f4a9dd39f8169da338793df97c04700c64fbec15d76fc5997a12166e019f5c1"
   }
  }
 },
 "nbformat": 4,
 "nbformat_minor": 2
}
