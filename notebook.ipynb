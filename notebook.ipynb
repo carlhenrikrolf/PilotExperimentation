{
 "cells": [
  {
   "attachments": {},
   "cell_type": "markdown",
   "metadata": {},
   "source": [
    "# Notebook\n",
    "In this notebook, we present the major experimental findings."
   ]
  },
  {
   "attachments": {},
   "cell_type": "markdown",
   "metadata": {},
   "source": [
    "## PE-UCRL in a polarising recommender engine"
   ]
  },
  {
   "attachments": {},
   "cell_type": "markdown",
   "metadata": {},
   "source": [
    "### Initialisations"
   ]
  },
  {
   "attachments": {},
   "cell_type": "markdown",
   "metadata": {},
   "source": [
    "Choose the configurations file by altering the path below."
   ]
  },
  {
   "cell_type": "code",
   "execution_count": 1,
   "metadata": {},
   "outputs": [],
   "source": [
    "config_file_path = \"config_files/peucrl_polarisation_2.json\""
   ]
  },
  {
   "attachments": {},
   "cell_type": "markdown",
   "metadata": {},
   "source": [
    "To run the notebook cell below, ```PilotExperimentation``` and ```gym_cellular``` have to be cloned as two separate directories in the same directory.\n",
    "The notebook cell reads necessary files, imports necessary packages, and instantiates the environment and agent classes."
   ]
  },
  {
   "cell_type": "code",
   "execution_count": 2,
   "metadata": {},
   "outputs": [
    {
     "name": "stdout",
     "output_type": "stream",
     "text": [
      "configurations:\n",
      "{'accuracy': 0.9,\n",
      " 'cell_classes': ['children', 'nonconsenting'],\n",
      " 'cell_labelling_function': [[], [1]],\n",
      " 'confidence_level': 0.95,\n",
      " 'environment_seed': 4884,\n",
      " 'environment_version': 'gym_cellular/Polarisation-v2',\n",
      " 'max_time_steps': 30,\n",
      " 'n_moderators': 2,\n",
      " 'n_recommendations': 3,\n",
      " 'n_user_states': 5,\n",
      " 'n_users': 2,\n",
      " 'regulatory_constraints': 'P>=1 [ G n < 2]',\n",
      " 'reset_seed': 88}\n"
     ]
    }
   ],
   "source": [
    "# import packages\n",
    "from agents import PeUcrlAgent\n",
    "from copy import deepcopy\n",
    "from json import load\n",
    "import gymnasium as gym\n",
    "!cd ..; pip3 install -e gym-cellular -q\n",
    "import gym_cellular\n",
    "import matplotlib.pyplot as plt\n",
    "import numpy as np\n",
    "import pandas as pd\n",
    "from pprint import pprint\n",
    "from sys import stdout\n",
    "\n",
    "# import configurations\n",
    "config_file = open(config_file_path, 'r')\n",
    "config = load(config_file)\n",
    "\n",
    "print(\"configurations:\")\n",
    "pprint(config)\n",
    "\n",
    "# instantiate environment\n",
    "env = gym.make(\n",
    "    config[\"environment_version\"],\n",
    "    n_users=config[\"n_users\"],\n",
    "    n_user_states=config[\"n_user_states\"],\n",
    "    n_recommendations=config[\"n_recommendations\"],\n",
    "    n_moderators=config[\"n_moderators\"],\n",
    "    seed=config[\"environment_seed\"],\n",
    ")\n",
    "\n",
    "# initialise environment\n",
    "state, info = env.reset()\n",
    "initial_policy = env.get_initial_policy()\n",
    "\n",
    "# instantiate agent\n",
    "agt = PeUcrlAgent(\n",
    "    confidence_level=config[\"confidence_level\"],\n",
    "    accuracy=config[\"accuracy\"],\n",
    "    n_cells=config[\"n_users\"],\n",
    "    n_intracellular_states=config[\"n_user_states\"] * 2,\n",
    "    cellular_encoding=env.cellular_encoding,\n",
    "    n_intracellular_actions=config[\"n_recommendations\"],\n",
    "    cellular_decoding=env.cellular_decoding,\n",
    "    reward_function=env.tabular_reward_function,\n",
    "    cell_classes=config[\"cell_classes\"],\n",
    "    cell_labelling_function=config[\"cell_labelling_function\"],\n",
    "    regulatory_constraints=config[\"regulatory_constraints\"],\n",
    "    initial_state=state,\n",
    "    initial_policy=initial_policy,\n",
    ")"
   ]
  },
  {
   "attachments": {},
   "cell_type": "markdown",
   "metadata": {},
   "source": [
    "### Explore"
   ]
  },
  {
   "attachments": {},
   "cell_type": "markdown",
   "metadata": {},
   "source": [
    "The agent is run in the environment in the notebook cell below, and data is collected."
   ]
  },
  {
   "cell_type": "code",
   "execution_count": 3,
   "metadata": {},
   "outputs": [
    {
     "name": "stdout",
     "output_type": "stream",
     "text": [
      "state: {'polarisation': array([4, 4]), 'two_way_polarisable': array([0, 1])}\n",
      "time step: 0 \n",
      "\n",
      "action: [0 0] \n",
      "state: {'polarisation': array([3, 3]), 'two_way_polarisable': array([0, 1])} \n",
      "reward: 0.13265173137353417 \n",
      "side effects:\n",
      "array([['safe', 'silent'],\n",
      "       ['silent', 'safe']], dtype='<U6')\n",
      "time step: 1 \n",
      "\u001b[3Ktime step: 6\r"
     ]
    }
   ],
   "source": [
    "# initialise data-saving structures\n",
    "reward_cumulation = np.zeros(config[\"max_time_steps\"]) * np.nan\n",
    "side_effects_incidence = np.zeros(config[\"max_time_steps\"]) * np.nan\n",
    "ns_between_time_steps = np.zeros(config[\"max_time_steps\"]) * np.nan\n",
    "ns_between_episodes = np.zeros(config[\"max_time_steps\"]) * np.nan\n",
    "\n",
    "# print\n",
    "print(\"state:\", state)\n",
    "print(\"time step:\", 0, \"\\n\")\n",
    "\n",
    "for time_step in range(config[\"max_time_steps\"]):\n",
    "\n",
    "    action = agt.sample_action(state)\n",
    "    #print(\"action:\", action)\n",
    "    state, reward, terminated, truncated, info = env.step(action)\n",
    "    reward_cumulation[time_step] = reward\n",
    "    side_effects_incidence[time_step] = env.get_side_effects_incidence()\n",
    "    #print(\"state:\", state)\n",
    "    #print(\"reward:\", reward)\n",
    "    #print(\"side effects:\")\n",
    "    #pprint(info[\"side_effects\"])\n",
    "    #print(\"time step:\", time_step + 1, \"\\n\")\n",
    "    agt.update(state, reward, info[\"side_effects\"])\n",
    "    ns_between_time_steps[time_step] = agt.get_ns_between_time_steps()\n",
    "    ns_between_episodes[time_step] = agt.get_ns_between_episodes()\n",
    "\n",
    "    if terminated or truncated:\n",
    "        break\n",
    "\n",
    "    # print\n",
    "    if time_step <= 0:\n",
    "        print(\"action:\", action, \"\\nstate:\", state, \"\\nreward:\", reward, \"\\nside effects:\")\n",
    "        pprint(info[\"side_effects\"])\n",
    "        print(\"time step:\", time_step + 1, '\\n\\n', end='\\r')\n",
    "    elif time_step >= config[\"max_time_steps\"] - 1:\n",
    "        print(\"\\naction:\", action, \"\\nstate:\", state, \"\\nreward:\", reward, \"\\nside effects:\")\n",
    "        pprint(info[\"side_effects\"])\n",
    "        print(\"time step:\", time_step + 1)\n",
    "    else:\n",
    "        stdout.write('\\033[3K')\n",
    "        print(\"time step:\", time_step + 1, end='\\r')\n",
    "\n",
    "print(\"number of policy changes:\", agt.n_policy_changes)"
   ]
  },
  {
   "attachments": {},
   "cell_type": "markdown",
   "metadata": {},
   "source": [
    "### Results"
   ]
  },
  {
   "attachments": {},
   "cell_type": "markdown",
   "metadata": {},
   "source": [
    "In the notebook cell below, side effects incidence and reward respectively are plotted against the number of time steps."
   ]
  },
  {
   "cell_type": "code",
   "execution_count": null,
   "metadata": {},
   "outputs": [
    {
     "data": {
      "image/png": "[encoded data removed]",
      "text/plain": [
       "<Figure size 640x480 with 2 Axes>"
      ]
     },
     "metadata": {},
     "output_type": "display_data"
    }
   ],
   "source": [
    "fig, (ax1, ax2) = plt.subplots(2, 1)\n",
    "#smoothing = 1#int(0.05*config[\"max_time_steps\"])\n",
    "x = np.arange(0, config[\"max_time_steps\"])\n",
    "ax2.set_xlabel(\"time step\")\n",
    "ax1.set_ylabel(\"cumulative side effects\\n(maximum)\")\n",
    "ax1.set_ylim(-0.03, 1.03)\n",
    "d = pd.Series(side_effects_incidence)\n",
    "y = d.cummax() #d.rolling(smoothing).mean()\n",
    "ax1.plot(x, y)\n",
    "ax2.set_ylabel(\"cumulative reward\\n(sum)\")\n",
    "d = pd.Series(reward_cumulation)\n",
    "y = d.cumsum()#d.rolling(smoothing).mean()\n",
    "ax2.plot(x, y)\n",
    "\n",
    "plt.show(fig)"
   ]
  },
  {
   "attachments": {},
   "cell_type": "markdown",
   "metadata": {},
   "source": [
    "In the notebook cell below, a table is printed showing the time to perform the between time step computations as well as the between episodes computations."
   ]
  },
  {
   "cell_type": "code",
   "execution_count": null,
   "metadata": {},
   "outputs": [
    {
     "name": "stdout",
     "output_type": "stream",
     "text": [
      "                     mean (s)  standard devation (s)  number of samples\n",
      "between time steps   0.012076               0.002252                 30\n",
      "between episodes    22.578834               0.572447                 10\n"
     ]
    }
   ],
   "source": [
    "table = [\n",
    "    [np.nanmean(ns_between_time_steps)/1e9, np.nanstd(ns_between_time_steps)/1e9, np.count_nonzero(~np.isnan(ns_between_time_steps))],\n",
    "    [np.nanmean(ns_between_episodes)/1e9, np.nanstd(ns_between_episodes)/1e9, np.count_nonzero(~np.isnan(ns_between_episodes))],\n",
    "]\n",
    "df = pd.DataFrame(table, columns=[\"mean (s)\", \"standard devation (s)\", \"number of samples\"], index=[\"between time steps\", \"between episodes\"])\n",
    "\n",
    "print(df)"
   ]
  },
  {
   "cell_type": "code",
   "execution_count": null,
   "metadata": {},
   "outputs": [
    {
     "name": "stdout",
     "output_type": "stream",
     "text": [
      "number of policy changes: 10\n",
      "[{'unsafe', 'safe'}, {'unsafe', 'safe'}, {'unsafe', 'safe'}, {'safe'}, {'safe'}, {'unsafe'}, {'unsafe'}, {'unsafe'}, {'safe'}, {'safe'}]\n"
     ]
    }
   ],
   "source": [
    "print(\"number of policy changes:\", agt.n_policy_changes)\n",
    "print(agt.side_effects_functions)"
   ]
  }
 ],
 "metadata": {
  "kernelspec": {
   "display_name": "py3env",
   "language": "python",
   "name": "python3"
  },
  "language_info": {
   "codemirror_mode": {
    "name": "ipython",
    "version": 3
   },
   "file_extension": ".py",
   "mimetype": "text/x-python",
   "name": "python",
   "nbconvert_exporter": "python",
   "pygments_lexer": "ipython3",
   "version": "3.10.6"
  },
  "orig_nbformat": 4,
  "vscode": {
   "interpreter": {
    "hash": "5f4a9dd39f8169da338793df97c04700c64fbec15d76fc5997a12166e019f5c1"
   }
  }
 },
 "nbformat": 4,
 "nbformat_minor": 2
}
