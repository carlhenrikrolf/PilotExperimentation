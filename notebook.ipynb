{
 "cells": [
  {
   "attachments": {},
   "cell_type": "markdown",
   "metadata": {},
   "source": [
    "# Notebook\n",
    "In this notebook, we present the major experimental findings."
   ]
  },
  {
   "attachments": {},
   "cell_type": "markdown",
   "metadata": {},
   "source": [
    "## PE-UCRL in a polarising recommender engine"
   ]
  },
  {
   "attachments": {},
   "cell_type": "markdown",
   "metadata": {},
   "source": [
    "### Initialisations"
   ]
  },
  {
   "attachments": {},
   "cell_type": "markdown",
   "metadata": {},
   "source": [
    "Choose the configurations file by altering the path below."
   ]
  },
  {
   "cell_type": "code",
   "execution_count": 1,
   "metadata": {},
   "outputs": [],
   "source": [
    "config_file_path = \"config_files/peucrl_polarisation_1.json\""
   ]
  },
  {
   "attachments": {},
   "cell_type": "markdown",
   "metadata": {},
   "source": [
    "To run the notebook cell below, ```PilotExperimentation``` and ```gym_cellular``` have to be cloned as two separate directories in the same directory.\n",
    "The notebook cell reads necessary files, imports necessary packages, and instantiates the environment and agent classes."
   ]
  },
  {
   "cell_type": "code",
   "execution_count": 2,
   "metadata": {},
   "outputs": [
    {
     "name": "stdout",
     "output_type": "stream",
     "text": [
      "{'accuracy': 0.9,\n",
      " 'cell_classes': None,\n",
      " 'cell_labelling_function': None,\n",
      " 'confidence_level': 0.95,\n",
      " 'environment_seed': 0,\n",
      " 'environment_version': 'gym_cellular/Polarisation-v2',\n",
      " 'max_time_steps': 30,\n",
      " 'n_moderators': 2,\n",
      " 'n_recommendations': 4,\n",
      " 'n_user_states': 5,\n",
      " 'n_users': 3,\n",
      " 'regulatory_constraints': None}\n"
     ]
    }
   ],
   "source": [
    "# import packages\n",
    "from agents import PeUcrlAgent\n",
    "from json import load\n",
    "import gymnasium as gym\n",
    "!cd ..; pip3 install -e gym-cellular -q\n",
    "import gym_cellular\n",
    "import matplotlib.pyplot as plt\n",
    "import numpy as np\n",
    "import pandas as pd\n",
    "from pprint import pprint\n",
    "\n",
    "# import configurations\n",
    "config_file = open(config_file_path, 'r')\n",
    "config = load(config_file)\n",
    "\n",
    "# instantiate environment\n",
    "env = gym.make(\n",
    "    config[\"environment_version\"],\n",
    "    n_users=config[\"n_users\"],\n",
    "    n_user_states=config[\"n_user_states\"],\n",
    "    n_recommendations=config[\"n_recommendations\"],\n",
    "    n_moderators=config[\"n_moderators\"],\n",
    "    seed=config[\"environment_seed\"],\n",
    ")\n",
    "\n",
    "def reward_function(x,y):\n",
    "    return 0\n",
    "\n",
    "# instantiate agent\n",
    "agt = PeUcrlAgent(\n",
    "    confidence_level=config[\"confidence_level\"],\n",
    "    accuracy=config[\"accuracy\"],\n",
    "    n_cells=config[\"n_users\"],\n",
    "    n_intracellular_states=config[\"n_user_states\"] * 2,\n",
    "    cellular_encoding=env.cellular_encoding,\n",
    "    n_intracellular_actions=config[\"n_recommendations\"],\n",
    "    cellular_decoding=env.cellular_decoding,\n",
    "    reward_function=reward_function,\n",
    "    cell_classes=config[\"cell_classes\"],\n",
    "    cell_labelling_function=config[\"cell_labelling_function\"],\n",
    "    regulatory_constraints=config[\"regulatory_constraints\"],\n",
    "    initial_policy=env.get_initial_policy(),\n",
    ")\n",
    "\n",
    "pprint(config)"
   ]
  },
  {
   "attachments": {},
   "cell_type": "markdown",
   "metadata": {},
   "source": [
    "### Explore"
   ]
  },
  {
   "attachments": {},
   "cell_type": "markdown",
   "metadata": {},
   "source": [
    "The agent is run in the environment in the notebook cell below, and data is collected."
   ]
  },
  {
   "cell_type": "code",
   "execution_count": 3,
   "metadata": {},
   "outputs": [
    {
     "ename": "IndexError",
     "evalue": "index 10 is out of bounds for axis 0 with size 10",
     "output_type": "error",
     "traceback": [
      "\u001b[0;31m---------------------------------------------------------------------------\u001b[0m",
      "\u001b[0;31mIndexError\u001b[0m                                Traceback (most recent call last)",
      "Cell \u001b[0;32mIn[3], line 13\u001b[0m\n\u001b[1;32m     11\u001b[0m action \u001b[39m=\u001b[39m agt\u001b[39m.\u001b[39msample_action(previous_state)\n\u001b[1;32m     12\u001b[0m current_state, reward, terminated, truncated, info \u001b[39m=\u001b[39m env\u001b[39m.\u001b[39mstep(action)\n\u001b[0;32m---> 13\u001b[0m agt\u001b[39m.\u001b[39;49mupdate(current_state, reward, info[\u001b[39m\"\u001b[39;49m\u001b[39mside_effects\u001b[39;49m\u001b[39m\"\u001b[39;49m])\n\u001b[1;32m     15\u001b[0m \u001b[39m# save data\u001b[39;00m\n\u001b[1;32m     16\u001b[0m reward_cumulation[time_step] \u001b[39m=\u001b[39m reward\n",
      "File \u001b[0;32m~/Gits/PilotExperimentation/agents/peucrl.py:128\u001b[0m, in \u001b[0;36mPeUcrlAgent.update\u001b[0;34m(self, current_state, reward, side_effects)\u001b[0m\n\u001b[1;32m    126\u001b[0m \u001b[39mself\u001b[39m\u001b[39m.\u001b[39m_side_effects_processing()\n\u001b[1;32m    127\u001b[0m \u001b[39mself\u001b[39m\u001b[39m.\u001b[39m_action_pruning()\n\u001b[0;32m--> 128\u001b[0m \u001b[39mself\u001b[39;49m\u001b[39m.\u001b[39;49m_update_current_episode_counts() \u001b[39m# moved below. Correct?\u001b[39;00m\n\u001b[1;32m    129\u001b[0m \u001b[39mself\u001b[39m\u001b[39m.\u001b[39mtime_step \u001b[39m+\u001b[39m\u001b[39m=\u001b[39m \u001b[39m1\u001b[39m\n\u001b[1;32m    131\u001b[0m \u001b[39m# off-policy\u001b[39;00m\n",
      "File \u001b[0;32m~/Gits/PilotExperimentation/agents/peucrl.py:170\u001b[0m, in \u001b[0;36mPeUcrlAgent._update_current_episode_counts\u001b[0;34m(self)\u001b[0m\n\u001b[1;32m    167\u001b[0m \u001b[39mfor\u001b[39;00m flat_previous_state \u001b[39min\u001b[39;00m \u001b[39mrange\u001b[39m(\u001b[39mself\u001b[39m\u001b[39m.\u001b[39mn_states):\n\u001b[1;32m    168\u001b[0m     \u001b[39mfor\u001b[39;00m flat_action \u001b[39min\u001b[39;00m \u001b[39mrange\u001b[39m(\u001b[39mself\u001b[39m\u001b[39m.\u001b[39mn_actions):\n\u001b[1;32m    169\u001b[0m         \u001b[39mself\u001b[39m\u001b[39m.\u001b[39mcellular_current_episode_count[flat_previous_state, flat_action] \u001b[39m=\u001b[39m np\u001b[39m.\u001b[39mamin(\n\u001b[0;32m--> 170\u001b[0m             [\n\u001b[1;32m    171\u001b[0m                 [\n\u001b[1;32m    172\u001b[0m                     \u001b[39mself\u001b[39m\u001b[39m.\u001b[39mintracellular_episode_count[intracellular_state, intracellular_action] \u001b[39mfor\u001b[39;00m intracellular_state \u001b[39min\u001b[39;00m \u001b[39mself\u001b[39m\u001b[39m.\u001b[39m_unflatten(flat_state\u001b[39m=\u001b[39mflat_previous_state)\n\u001b[1;32m    173\u001b[0m                 ] \u001b[39mfor\u001b[39;00m intracellular_action \u001b[39min\u001b[39;00m \u001b[39mself\u001b[39m\u001b[39m.\u001b[39m_unflatten(flat_action\u001b[39m=\u001b[39mflat_action)\n\u001b[1;32m    174\u001b[0m             ]\n\u001b[1;32m    175\u001b[0m         )\n\u001b[1;32m    177\u001b[0m \u001b[39m# standard\u001b[39;00m\n\u001b[1;32m    178\u001b[0m \u001b[39mself\u001b[39m\u001b[39m.\u001b[39mcurrent_episode_count[\u001b[39mself\u001b[39m\u001b[39m.\u001b[39mflat_previous_state, \u001b[39mself\u001b[39m\u001b[39m.\u001b[39mflat_action] \u001b[39m+\u001b[39m\u001b[39m=\u001b[39m \u001b[39m1\u001b[39m\n",
      "File \u001b[0;32m~/Gits/PilotExperimentation/agents/peucrl.py:171\u001b[0m, in \u001b[0;36m<listcomp>\u001b[0;34m(.0)\u001b[0m\n\u001b[1;32m    167\u001b[0m \u001b[39mfor\u001b[39;00m flat_previous_state \u001b[39min\u001b[39;00m \u001b[39mrange\u001b[39m(\u001b[39mself\u001b[39m\u001b[39m.\u001b[39mn_states):\n\u001b[1;32m    168\u001b[0m     \u001b[39mfor\u001b[39;00m flat_action \u001b[39min\u001b[39;00m \u001b[39mrange\u001b[39m(\u001b[39mself\u001b[39m\u001b[39m.\u001b[39mn_actions):\n\u001b[1;32m    169\u001b[0m         \u001b[39mself\u001b[39m\u001b[39m.\u001b[39mcellular_current_episode_count[flat_previous_state, flat_action] \u001b[39m=\u001b[39m np\u001b[39m.\u001b[39mamin(\n\u001b[1;32m    170\u001b[0m             [\n\u001b[0;32m--> 171\u001b[0m                 [\n\u001b[1;32m    172\u001b[0m                     \u001b[39mself\u001b[39m\u001b[39m.\u001b[39mintracellular_episode_count[intracellular_state, intracellular_action] \u001b[39mfor\u001b[39;00m intracellular_state \u001b[39min\u001b[39;00m \u001b[39mself\u001b[39m\u001b[39m.\u001b[39m_unflatten(flat_state\u001b[39m=\u001b[39mflat_previous_state)\n\u001b[1;32m    173\u001b[0m                 ] \u001b[39mfor\u001b[39;00m intracellular_action \u001b[39min\u001b[39;00m \u001b[39mself\u001b[39m\u001b[39m.\u001b[39m_unflatten(flat_action\u001b[39m=\u001b[39mflat_action)\n\u001b[1;32m    174\u001b[0m             ]\n\u001b[1;32m    175\u001b[0m         )\n\u001b[1;32m    177\u001b[0m \u001b[39m# standard\u001b[39;00m\n\u001b[1;32m    178\u001b[0m \u001b[39mself\u001b[39m\u001b[39m.\u001b[39mcurrent_episode_count[\u001b[39mself\u001b[39m\u001b[39m.\u001b[39mflat_previous_state, \u001b[39mself\u001b[39m\u001b[39m.\u001b[39mflat_action] \u001b[39m+\u001b[39m\u001b[39m=\u001b[39m \u001b[39m1\u001b[39m\n",
      "File \u001b[0;32m~/Gits/PilotExperimentation/agents/peucrl.py:172\u001b[0m, in \u001b[0;36m<listcomp>\u001b[0;34m(.0)\u001b[0m\n\u001b[1;32m    167\u001b[0m \u001b[39mfor\u001b[39;00m flat_previous_state \u001b[39min\u001b[39;00m \u001b[39mrange\u001b[39m(\u001b[39mself\u001b[39m\u001b[39m.\u001b[39mn_states):\n\u001b[1;32m    168\u001b[0m     \u001b[39mfor\u001b[39;00m flat_action \u001b[39min\u001b[39;00m \u001b[39mrange\u001b[39m(\u001b[39mself\u001b[39m\u001b[39m.\u001b[39mn_actions):\n\u001b[1;32m    169\u001b[0m         \u001b[39mself\u001b[39m\u001b[39m.\u001b[39mcellular_current_episode_count[flat_previous_state, flat_action] \u001b[39m=\u001b[39m np\u001b[39m.\u001b[39mamin(\n\u001b[1;32m    170\u001b[0m             [\n\u001b[1;32m    171\u001b[0m                 [\n\u001b[0;32m--> 172\u001b[0m                     \u001b[39mself\u001b[39;49m\u001b[39m.\u001b[39;49mintracellular_episode_count[intracellular_state, intracellular_action] \u001b[39mfor\u001b[39;00m intracellular_state \u001b[39min\u001b[39;00m \u001b[39mself\u001b[39m\u001b[39m.\u001b[39m_unflatten(flat_state\u001b[39m=\u001b[39mflat_previous_state)\n\u001b[1;32m    173\u001b[0m                 ] \u001b[39mfor\u001b[39;00m intracellular_action \u001b[39min\u001b[39;00m \u001b[39mself\u001b[39m\u001b[39m.\u001b[39m_unflatten(flat_action\u001b[39m=\u001b[39mflat_action)\n\u001b[1;32m    174\u001b[0m             ]\n\u001b[1;32m    175\u001b[0m         )\n\u001b[1;32m    177\u001b[0m \u001b[39m# standard\u001b[39;00m\n\u001b[1;32m    178\u001b[0m \u001b[39mself\u001b[39m\u001b[39m.\u001b[39mcurrent_episode_count[\u001b[39mself\u001b[39m\u001b[39m.\u001b[39mflat_previous_state, \u001b[39mself\u001b[39m\u001b[39m.\u001b[39mflat_action] \u001b[39m+\u001b[39m\u001b[39m=\u001b[39m \u001b[39m1\u001b[39m\n",
      "\u001b[0;31mIndexError\u001b[0m: index 10 is out of bounds for axis 0 with size 10"
     ]
    }
   ],
   "source": [
    "# initialise environment\n",
    "previous_state, info = env.reset(seed=config[\"reset_seed\"])\n",
    "\n",
    "# initialise data-saving structures\n",
    "reward_cumulation = np.zeros(config[\"max_time_steps\"])\n",
    "side_effects_incidence = np.zeros(config[\"max_time_steps\"])\n",
    "ns_between_time_steps = np.zeros(config[\"max_time_steps\"])\n",
    "ns_between_episodes = np.zeros(config[\"max_time_steps\"])\n",
    "\n",
    "for time_step in range(config[\"max_time_steps\"]):\n",
    "\n",
    "    # interact\n",
    "    action = agt.sample_action(previous_state)\n",
    "    current_state, reward, terminated, truncated, info = env.step(action)\n",
    "    agt.update(current_state, reward, info[\"side_effects\"])\n",
    "\n",
    "    # save data\n",
    "    reward_cumulation[time_step] = reward\n",
    "    side_effects_incidence[time_step] = env.get_side_effects_incidence()\n",
    "    ns_between_time_steps[time_step] = agt.get_ns_between_time_steps()\n",
    "    ns_between_episodes[time_step] = agt.get_ns_between_episodes()\n",
    "\n",
    "    if terminated or truncated:\n",
    "        break\n",
    "\n",
    "    previous_state = current_state"
   ]
  },
  {
   "attachments": {},
   "cell_type": "markdown",
   "metadata": {},
   "source": [
    "### Results"
   ]
  },
  {
   "attachments": {},
   "cell_type": "markdown",
   "metadata": {},
   "source": [
    "In the notebook cell below, side effects incidence and reward respectively are plotted against the number of time steps."
   ]
  },
  {
   "cell_type": "code",
   "execution_count": null,
   "metadata": {},
   "outputs": [
    {
     "data": {
      "image/png": "[encoded data removed]",
      "text/plain": [
       "<Figure size 640x480 with 2 Axes>"
      ]
     },
     "metadata": {},
     "output_type": "display_data"
    }
   ],
   "source": [
    "fig, (ax1, ax2) = plt.subplots(2, 1)\n",
    "x = np.arange(0, config[\"max_time_steps\"])\n",
    "ax2.set_xlabel(\"time step\")\n",
    "ax1.set_ylabel(\"side effects incidence\")\n",
    "y = side_effects_incidence\n",
    "ax1.plot(x, y)\n",
    "ax2.set_ylabel(\"reward\")\n",
    "y = reward_cumulation\n",
    "ax2.plot(x, y)\n",
    "\n",
    "plt.show(fig)"
   ]
  },
  {
   "attachments": {},
   "cell_type": "markdown",
   "metadata": {},
   "source": [
    "In the notebook cell below, a table is printed showing the time to perform the between time step computations as well as the between episodes computations."
   ]
  },
  {
   "cell_type": "code",
   "execution_count": null,
   "metadata": {},
   "outputs": [
    {
     "name": "stdout",
     "output_type": "stream",
     "text": [
      "                       mean (ns)  standard devation (ns)  number of samples\n",
      "between time steps  5.963768e+06            1.661981e+06                  3\n",
      "between episodes    1.779155e+06            3.793658e+05                  3\n"
     ]
    }
   ],
   "source": [
    "table = [\n",
    "    [np.mean(ns_between_time_steps), np.std(ns_between_time_steps), config[\"max_time_steps\"]],\n",
    "    [np.nanmean(ns_between_episodes), np.nanstd(ns_between_episodes), np.count_nonzero(~np.isnan(ns_between_episodes))],\n",
    "]\n",
    "df = pd.DataFrame(table, columns=[\"mean (ns)\", \"standard devation (ns)\", \"number of samples\"], index=[\"between time steps\", \"between episodes\"])\n",
    "\n",
    "print(df)"
   ]
  }
 ],
 "metadata": {
  "kernelspec": {
   "display_name": "py3env",
   "language": "python",
   "name": "python3"
  },
  "language_info": {
   "codemirror_mode": {
    "name": "ipython",
    "version": 3
   },
   "file_extension": ".py",
   "mimetype": "text/x-python",
   "name": "python",
   "nbconvert_exporter": "python",
   "pygments_lexer": "ipython3",
   "version": "3.10.6"
  },
  "orig_nbformat": 4,
  "vscode": {
   "interpreter": {
    "hash": "5f4a9dd39f8169da338793df97c04700c64fbec15d76fc5997a12166e019f5c1"
   }
  }
 },
 "nbformat": 4,
 "nbformat_minor": 2
}
